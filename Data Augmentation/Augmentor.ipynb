{
  "nbformat": 4,
  "nbformat_minor": 0,
  "metadata": {
    "colab": {
      "provenance": []
    },
    "kernelspec": {
      "name": "python3",
      "display_name": "Python 3"
    },
    "language_info": {
      "name": "python"
    }
  },
  "cells": [
    {
      "cell_type": "code",
      "execution_count": 1,
      "metadata": {
        "colab": {
          "base_uri": "https://localhost:8080/"
        },
        "id": "G0j5ZxAbonPd",
        "outputId": "c008025a-56f9-4300-9bef-e65a56c449bf"
      },
      "outputs": [
        {
          "output_type": "stream",
          "name": "stdout",
          "text": [
            "Collecting Augmentor\n",
            "  Downloading Augmentor-0.2.12-py2.py3-none-any.whl.metadata (1.3 kB)\n",
            "Requirement already satisfied: Pillow>=5.2.0 in /usr/local/lib/python3.11/dist-packages (from Augmentor) (11.2.1)\n",
            "Requirement already satisfied: tqdm>=4.9.0 in /usr/local/lib/python3.11/dist-packages (from Augmentor) (4.67.1)\n",
            "Requirement already satisfied: numpy>=1.11.0 in /usr/local/lib/python3.11/dist-packages (from Augmentor) (2.0.2)\n",
            "Downloading Augmentor-0.2.12-py2.py3-none-any.whl (38 kB)\n",
            "Installing collected packages: Augmentor\n",
            "Successfully installed Augmentor-0.2.12\n"
          ]
        }
      ],
      "source": [
        "!pip install Augmentor"
      ]
    },
    {
      "cell_type": "code",
      "source": [
        "import Augmentor\n",
        "p=Augmentor.Pipeline('/content/dog.jpg')"
      ],
      "metadata": {
        "colab": {
          "base_uri": "https://localhost:8080/"
        },
        "id": "diDNTumHoqKq",
        "outputId": "cc96483d-4927-4dca-cb73-990827e2057a"
      },
      "execution_count": 5,
      "outputs": [
        {
          "output_type": "stream",
          "name": "stdout",
          "text": [
            "Insufficient rights to read or write output directory (/content/dog.jpg/output)\n",
            "Initialised with 0 image(s) found.\n",
            "Output directory set to /content/dog.jpg/output."
          ]
        }
      ]
    },
    {
      "cell_type": "markdown",
      "source": [
        "Rotating an image\n",
        "Functions are\n",
        "1)rotate()\n",
        "\n",
        "2)rotate90()\n",
        "\n",
        "3)rotate180()\n",
        "\n",
        "4)rotate270()\n",
        "\n",
        "5)rotate_random_90()"
      ],
      "metadata": {
        "id": "jkJUPxDdpiRx"
      }
    },
    {
      "cell_type": "markdown",
      "source": [
        "Probability argument\n",
        "\n",
        "Probability - Value lies between 0 and 1  representing the probability that the operation should be performed"
      ],
      "metadata": {
        "id": "RaiEKiUPp5lp"
      }
    },
    {
      "cell_type": "code",
      "source": [
        "p.rotate(probability=0.3, max_left_rotation=10, max_right_rotation=10)"
      ],
      "metadata": {
        "id": "_Kte-jZVpe-5"
      },
      "execution_count": 7,
      "outputs": []
    },
    {
      "cell_type": "code",
      "source": [
        "p.rotate90(probability=0.3)"
      ],
      "metadata": {
        "id": "5yj1QU1VqPZ8"
      },
      "execution_count": 8,
      "outputs": []
    },
    {
      "cell_type": "code",
      "source": [
        "p.rotate270(probability=0.3)"
      ],
      "metadata": {
        "id": "tWlWgqEqqew8"
      },
      "execution_count": 9,
      "outputs": []
    },
    {
      "cell_type": "markdown",
      "source": [
        "*Flipping*\n",
        "\n",
        "Flip (mirror) the image along its horizontal axis  left to right"
      ],
      "metadata": {
        "id": "cLy_DeGHqkis"
      }
    },
    {
      "cell_type": "code",
      "source": [
        "p.flip_left_right(probability=0.3)"
      ],
      "metadata": {
        "id": "aou29-Weqixe"
      },
      "execution_count": 10,
      "outputs": []
    },
    {
      "cell_type": "code",
      "source": [
        "p.flip_top_bottom(probability=0.3)"
      ],
      "metadata": {
        "id": "6rd9QBLpqwpI"
      },
      "execution_count": 12,
      "outputs": []
    },
    {
      "cell_type": "markdown",
      "source": [
        "Cropping\n",
        "\n",
        "Crop a random area of an image based on the percentage area to be returend\n",
        "\n",
        "This function crops a random area from an image based on the area you specify using percentage_area"
      ],
      "metadata": {
        "id": "yO2TW4hPq-TT"
      }
    },
    {
      "cell_type": "code",
      "source": [
        "p.crop_random(probability=.1, percentage_area=0.5)"
      ],
      "metadata": {
        "id": "0CTKjj0Wq3xo"
      },
      "execution_count": 13,
      "outputs": []
    },
    {
      "cell_type": "markdown",
      "source": [
        "*Resizing*\n",
        "\n",
        "Resize an image according to set of dimensions specified by the user in pixels"
      ],
      "metadata": {
        "id": "DQLZGbVUrcQn"
      }
    },
    {
      "cell_type": "code",
      "source": [
        "p.resize(probability=0.1,width=100,height=100)\n"
      ],
      "metadata": {
        "id": "gAdzn9zzraoH"
      },
      "execution_count": 14,
      "outputs": []
    },
    {
      "cell_type": "markdown",
      "source": [
        "# Random Brightness\n",
        "- min_factor – The value between 0.0 and max_factor that define the minimum adjustment of image brightness. The value 0.0 gives a black image, value 1.0 gives the original image, value bigger than 1.0 gives more bright image.\n",
        "\n",
        "- max_factor – A value should be bigger than min_factor that define the maximum adjustment of image brightness. The value 0.0 gives a black image, value 1.0 gives the original image, value bigger than 1.0 gives more bright image."
      ],
      "metadata": {
        "id": "iuJMHpwKr1DS"
      }
    },
    {
      "cell_type": "code",
      "source": [
        "p.random_brightness(probability = 0.5, min_factor=0.4, max_factor=0.9)"
      ],
      "metadata": {
        "id": "5O2Em45urwZU"
      },
      "execution_count": 16,
      "outputs": []
    },
    {
      "cell_type": "markdown",
      "source": [
        "# Random color\n",
        "\n",
        "\n",
        "- min_factor – The value between 0.0 and max_factor that define the minimum adjustment of image saturation. The value 0.0 gives a black and white image, value 1.0 gives the original image.\n",
        "- max_factor – A value should be bigger than min_factor that define the maximum adjustment of image saturation. The value 0.0 gives a black and white image, value 1.0 gives the original image."
      ],
      "metadata": {
        "id": "ukNEbYuVsE7o"
      }
    },
    {
      "cell_type": "code",
      "source": [
        "p.random_color(probability=0.5, min_factor=0.4, max_factor=0.9)"
      ],
      "metadata": {
        "id": "7YbxNwc4sEDD"
      },
      "execution_count": 17,
      "outputs": []
    },
    {
      "cell_type": "markdown",
      "source": [
        "# Random Contrast\n",
        "\n",
        "- min_factor – The value between 0.0 and max_factor that define the minimum adjustment of image contrast. The value 0.0 gives s solid grey image, value 1.0 gives the original image.\n",
        "- max_factor – A value should be bigger than min_factor that define the maximum adjustment of image contrast. The value 0.0 gives s solid grey image, value 1.0 gives the original image."
      ],
      "metadata": {
        "id": "0uliudi5sMHj"
      }
    },
    {
      "cell_type": "code",
      "source": [
        "p.random_contrast(probability=0.5, min_factor=0.9, max_factor=1.4)"
      ],
      "metadata": {
        "id": "ZgC7bn69sH8I"
      },
      "execution_count": 18,
      "outputs": []
    },
    {
      "cell_type": "markdown",
      "source": [
        "# Random distortion\n",
        "\n",
        "\n",
        "Random distortions allow you to make distortions to an image while maintaining the image’s aspect ratio.\n",
        "\n",
        "\n",
        "This function performs a randomised, elastic distortion controlled by the parameters specified. The grid width and height controls how fine the distortions are. Smaller sizes will result in larger, more pronounced, and less granular distortions. Larger numbers will result in finer, more granular distortions. The magnitude of the distortions can be controlled using magnitude."
      ],
      "metadata": {
        "id": "lHmdp-nYsYNB"
      }
    },
    {
      "cell_type": "code",
      "source": [
        "p.random_distortion(probability=0.5, grid_width=7, grid_height=8, magnitude=9)"
      ],
      "metadata": {
        "id": "g-4nNc4WsPvf"
      },
      "execution_count": 19,
      "outputs": []
    },
    {
      "cell_type": "code",
      "source": [],
      "metadata": {
        "id": "LR4QKdDGsmW5"
      },
      "execution_count": null,
      "outputs": []
    }
  ]
}